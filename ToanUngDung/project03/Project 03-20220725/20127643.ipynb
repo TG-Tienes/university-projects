{
 "cells": [
  {
   "cell_type": "markdown",
   "metadata": {},
   "source": [
    "# <center>Đồ án 3: Linear Regression</center>"
   ]
  },
  {
   "cell_type": "markdown",
   "metadata": {},
   "source": [
    "# Thông tin sinh viên\n",
    "\n",
    "- Họ và tên: Trương Gia Tiến\n",
    "- MSSV: 20127643\n",
    "- Lớp: 20CLC02"
   ]
  },
  {
   "cell_type": "markdown",
   "metadata": {},
   "source": [
    "# Import"
   ]
  },
  {
   "cell_type": "code",
   "execution_count": 2258,
   "metadata": {},
   "outputs": [],
   "source": [
    "import pandas as pd\n",
    "import numpy as np\n",
    "from sklearn.model_selection import KFold\n",
    "\n",
    "# Import thêm dữ thư viện nếu cần"
   ]
  },
  {
   "cell_type": "markdown",
   "metadata": {},
   "source": [
    "# Đọc dữ liệu"
   ]
  },
  {
   "cell_type": "code",
   "execution_count": 2259,
   "metadata": {},
   "outputs": [],
   "source": [
    "# Đọc dữ liệu bằng pandas\n",
    "train = pd.read_csv('train.csv')\n",
    "test = pd.read_csv('test.csv')\n",
    "\n",
    "# Lấy các đặc trưng X và giá trị mục tiêu y cho các tập huấn luyện (train) và kiểm tra (test)\n",
    "X_train = train.iloc[:, :-1]    # Dataframe (chứa 10 đặc trưng huấn luyện)\n",
    "y_train = train.iloc[:, -1]     # Series    (chứa 1 giá trị mục tiêu kiểm tra)\n",
    "\n",
    "X_test = test.iloc[:, :-1]      # Dataframe (chứa 10 đặc trưng kiểm tra)\n",
    "y_test = test.iloc[:, -1]       # Series    (chứa 1 giá trị mục tiêu kiểm tra)\n",
    "\n",
    "X_train_clone = X_train.copy().to_numpy()\n",
    "y_train_clone = y_train.copy().to_numpy()\n",
    "\n",
    "X_test_clone = X_test.copy().to_numpy()\n",
    "y_test_clone = y_test.copy().to_numpy()\n",
    "# Sinh viên có thể sử dụng các khác nếu cần"
   ]
  },
  {
   "cell_type": "markdown",
   "metadata": {},
   "source": [
    "# Cài đặt hàm"
   ]
  },
  {
   "cell_type": "code",
   "execution_count": 2260,
   "metadata": {},
   "outputs": [],
   "source": [
    "# Cài đặt các hàm cần thiết ở đây\n",
    "class OLSLinearRegression:\n",
    "    def fit(self, X, y):\n",
    "        X_pinv = np.linalg.inv(X.T @ X) @ X.T    # np.linalg.pinv(X)\n",
    "        self.w = X_pinv @ y\n",
    "\n",
    "        return self\n",
    "\n",
    "\n",
    "    def get_params(self):\n",
    "        return self.w\n",
    "\n",
    "\n",
    "    def predict(self, X):\n",
    "        return np.sum(self.w.ravel() * X, axis=1)  \n",
    "\n",
    "def mse(y, y_hat):\n",
    "    return np.mean((y.ravel() - y_hat.ravel())**2)\n"
   ]
  },
  {
   "cell_type": "markdown",
   "metadata": {},
   "source": [
    "# Yêu cầu 1a: Sử dụng toàn bộ 10 đặc trưng đề bài cung cấp (2 điểm) "
   ]
  },
  {
   "cell_type": "code",
   "execution_count": 2261,
   "metadata": {},
   "outputs": [
    {
     "name": "stdout",
     "output_type": "stream",
     "text": [
      "X train:  (1085, 10)\n",
      "Y train:  (1085,)\n",
      "Y predict:  (95,)\n"
     ]
    }
   ],
   "source": [
    "# Phần code cho yêu cầu 1a\n",
    "lr = OLSLinearRegression()\n",
    "lr.fit(X_train, y_train)\n",
    "\n",
    "coef = lr.get_params()\n",
    "\n",
    "y_pred = lr.predict(X_test)\n",
    "print(\"X train: \", X_train.shape)\n",
    "print(\"Y train: \", y_train.shape)\n",
    "\n",
    "print(\"Y predict: \", y_pred.shape)\n",
    "\n",
    "# print(\"Coef - w: \\n\", coef)\n"
   ]
  },
  {
   "cell_type": "code",
   "execution_count": 2262,
   "metadata": {},
   "outputs": [
    {
     "name": "stdout",
     "output_type": "stream",
     "text": [
      "RMSE =  7.064046430584034\n"
     ]
    }
   ],
   "source": [
    "# Gọi hàm RMSE (tự cài đặt hoặc từ thư viện) trên tập kiểm tra\n",
    "rmse = np.sqrt(mse(y_test, y_pred))\n",
    "\n",
    "print(\"RMSE = \",rmse)"
   ]
  },
  {
   "cell_type": "markdown",
   "metadata": {},
   "source": [
    "Công thức hồi quy\n",
    "\n",
    "$$\\text{Life expectancy} = 0.015101 * AdultMortality + 0.090220 * BMI + 0.042922 * Polio + 0.139289 * Diphtheria$$ \n",
    "$$\\text+ (-0.567333) * HIV/AIDS + (-0.000101) * GDP + 0.740713 * thinnessAge10\\_19$$ \n",
    "$$\\text+ 0.190936 * ThinnessAge5\\_9 + 24.505974 * IncomCompositionOfResources$$\n",
    "$$\\text+ 2.393517 * Schooling$$"
   ]
  },
  {
   "cell_type": "markdown",
   "metadata": {},
   "source": [
    "# Yêu cầu 1b: Xây dựng mô hình sử dụng duy nhất 1 đặc trưng, tìm mô hình cho kết quả tốt nhất (2 điểm)"
   ]
  },
  {
   "cell_type": "markdown",
   "metadata": {},
   "source": [
    "Lưu ý: khi sử dụng cross-validation, sinh viên cần xáo trộn dữ liệu 1 lần duy nhất và thực hiện trên toàn bộ đặc trưng"
   ]
  },
  {
   "cell_type": "code",
   "execution_count": 2263,
   "metadata": {},
   "outputs": [
    {
     "name": "stdout",
     "output_type": "stream",
     "text": [
      "Cross validations:  [46.151148817625774, 27.907380619963114, 18.045593563981164, 16.050239108204696, 67.13923458569373, 60.20577569061152, 51.84727353661312, 51.799388252684665, 13.223384843165036, 11.783660475741138]\n",
      "\n",
      "Best feature: Schooling \n",
      "Best model's cross-validation value =  11.783660475741138\n"
     ]
    }
   ],
   "source": [
    "# Phần code cho yêu cầu 1b\n",
    "# Tìm ra đặc trưng tốt nhất\n",
    "# In ra các kết quả cross-validation như yêu cầu\n",
    "\n",
    "kf = KFold(n_splits=5, shuffle=True, random_state=None)\n",
    "cross_validation_RMSE_list = []\n",
    "for i in range(10):\n",
    "    X_train_feature = X_train_clone[:,i].copy()\n",
    "    y_train_feature = y_train_clone.copy()\n",
    "    \n",
    "    RMSE = 0\n",
    "    # for j in range(5):\n",
    "    for trainIndex, testIndex in kf.split(X_train_feature, y_train_feature):\n",
    "        X_train_kFold, X_val = X_train_feature[trainIndex].reshape(868,1), X_train_feature[testIndex].reshape(217,1)\n",
    "        y_train_kFold, y_val = y_train_feature[trainIndex].reshape(868,1), y_train_feature[testIndex].reshape(217,1)\n",
    "\n",
    "        lr = OLSLinearRegression()\n",
    "        lr.fit(X_train_kFold, y_train_kFold)\n",
    "        y_val_pred = lr.predict(X_val)\n",
    "        RMSE += np.sqrt(mse(y_val, y_val_pred))\n",
    "    cross_validation_RMSE_list.append(RMSE / 5)\n",
    "\n",
    "    # break\n",
    "#     sum = 0\n",
    "#     for j in range(5):\n",
    "#         X_val = X_train_feature[:,j].reshape(217,1)\n",
    "#         y_val = y_train_feature[:,j].reshape(217,1)\n",
    "\n",
    "#         temp = X_train_feature.copy()\n",
    "#         temp = np.delete(temp, j, 1)\n",
    "#         X_train_kFold = temp.copy().reshape(217 * 4,1)\n",
    "\n",
    "#         temp = y_train_feature.copy()\n",
    "#         temp = np.delete(temp, j, 1)\n",
    "#         y_train_kFold = temp.copy().reshape(217 * 4)\n",
    "\n",
    "#         lr = OLSLinearRegression()\n",
    "#         lr.fit(X_train_kFold, y_train_kFold)\n",
    "#         y_val_pred = lr.predict(X_val)\n",
    "\n",
    "#         sum += np.sqrt(mse(y_val, y_val_pred))\n",
    "#     RMSE_shuff.append(sum / 5)\n",
    "\n",
    "\n",
    "RMSE_shuff = np.asarray(cross_validation_RMSE_list) # chuyen thanh numpy array\n",
    "bestModelIndex = np.argmin(cross_validation_RMSE_list) # index cua min RMSE\n",
    "feature = [\"Adult Mortality\", \"BMI\", \"Polio\", \"Diphtheria\", \"HIV/AIDS\", \"GDP\", \"Thinness age 10-19\", \"Thinness age 5-9\", \"Income composition of resources\", \"Schooling\"]\n",
    "\n",
    "print(\"Cross validations: \", cross_validation_RMSE_list)\n",
    "print(\"\\nBest feature:\", feature[bestModelIndex], \"\\nBest model's cross-validation value = \", cross_validation_RMSE_list[bestModelIndex])"
   ]
  },
  {
   "cell_type": "code",
   "execution_count": 2264,
   "metadata": {},
   "outputs": [],
   "source": [
    "# Huấn luyện lại mô hình best_feature_model với đặc trưng tốt nhất trên toàn bộ tập huấn luyện\n",
    "lr = OLSLinearRegression()\n",
    "\n",
    "lr.fit(X_train_clone[:,bestModelIndex].reshape(1085,1),y_train)\n",
    "y_test_ch_pred = lr.predict(X_test_clone[:,bestModelIndex].reshape(95,1))"
   ]
  },
  {
   "cell_type": "code",
   "execution_count": 2265,
   "metadata": {},
   "outputs": [
    {
     "name": "stdout",
     "output_type": "stream",
     "text": [
      "10.26095039165537\n"
     ]
    }
   ],
   "source": [
    "# Gọi hàm RMSE (tự cài đặt hoặc từ thư viện) trên tập kiểm tra với mô hình best_feature_model\n",
    "rmse_bestModel = np.sqrt(mse(y_test, y_test_ch_pred))\n",
    "print(rmse_bestModel)"
   ]
  },
  {
   "cell_type": "markdown",
   "metadata": {},
   "source": [
    "Công thức hồi quy\n",
    "\n",
    "$$\\text{Life expectancy} = ...$$"
   ]
  },
  {
   "cell_type": "markdown",
   "metadata": {},
   "source": [
    "# Yêu cầu 1c: Sinh viên tự xây dựng mô hình, tìm mô hình cho kết quả tốt nhất (3 điểm)"
   ]
  },
  {
   "cell_type": "markdown",
   "metadata": {},
   "source": [
    "Lưu ý: khi sử dụng cross-validation, sinh viên cần xáo trộn dữ liệu 1 lần duy nhất và thực hiện trên toàn bộ $m$ mô hình mà sinh viên thiết kế"
   ]
  },
  {
   "cell_type": "code",
   "execution_count": 2266,
   "metadata": {},
   "outputs": [],
   "source": [
    "# Phần code cho yêu cầu 1c\n",
    "# Tìm ra mô hình tốt nhất (tự thiết kế bởi sinh viên)\n",
    "# In ra các kết quả cross-validation như yêu cầu"
   ]
  },
  {
   "cell_type": "code",
   "execution_count": 2267,
   "metadata": {},
   "outputs": [],
   "source": [
    "# Huấn luyện lại mô hình my_best_model trên toàn bộ tập huấn luyện"
   ]
  },
  {
   "cell_type": "code",
   "execution_count": 2268,
   "metadata": {},
   "outputs": [],
   "source": [
    "# Gọi hàm RMSE (tự cài đặt hoặc từ thư viện) trên tập kiểm tra với mô hình my_best_model"
   ]
  },
  {
   "cell_type": "markdown",
   "metadata": {},
   "source": [
    "Công thức hồi quy\n",
    "\n",
    "$$\\text{Life expectancy} = ...$$"
   ]
  }
 ],
 "metadata": {
  "kernelspec": {
   "display_name": "Python 3.10.0 64-bit",
   "language": "python",
   "name": "python3"
  },
  "language_info": {
   "codemirror_mode": {
    "name": "ipython",
    "version": 3
   },
   "file_extension": ".py",
   "mimetype": "text/x-python",
   "name": "python",
   "nbconvert_exporter": "python",
   "pygments_lexer": "ipython3",
   "version": "3.10.0"
  },
  "orig_nbformat": 4,
  "vscode": {
   "interpreter": {
    "hash": "82258a55d1500764d1b3d80f19af3c76a05d58cf47ccab85c75254e5aad3c4be"
   }
  }
 },
 "nbformat": 4,
 "nbformat_minor": 2
}
