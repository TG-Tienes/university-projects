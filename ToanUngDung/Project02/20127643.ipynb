{
 "cells": [
  {
   "cell_type": "markdown",
   "metadata": {},
   "source": [
    "# IMPORT MODULE"
   ]
  },
  {
   "cell_type": "code",
   "execution_count": 154,
   "metadata": {},
   "outputs": [],
   "source": [
    "import numpy as np\n",
    "import matplotlib.pyplot as plt\n",
    "import PIL as pil"
   ]
  },
  {
   "cell_type": "markdown",
   "metadata": {},
   "source": [
    "# THAY ĐỔI ĐỘ SÁNG"
   ]
  },
  {
   "cell_type": "code",
   "execution_count": 155,
   "metadata": {},
   "outputs": [],
   "source": [
    "def change_brightness(imageArray, percent):\n",
    "    # Reshape lai hinh\n",
    "    h, w, d = imageArray.shape\n",
    "    a = imageArray.reshape(h * w, d)\n",
    "    \n",
    "    # Tao mang chua toan gia tri can cong vao hinh\n",
    "    alphaArray = np.full((len(a), d), percent)\n",
    "    newImageArray = a + alphaArray\n",
    "\n",
    "    # kiem tra khoang [0,255]\n",
    "    newImageArray[newImageArray > 255] = 255\n",
    "    newImageArray[newImageArray < 0] = 0\n",
    "    \n",
    "    newImageArray = newImageArray.reshape(h,w,d)\n",
    "    \n",
    "    newImageArray = newImageArray.astype(np.uint8)\n",
    "    return newImageArray\n",
    "    "
   ]
  },
  {
   "cell_type": "markdown",
   "metadata": {},
   "source": [
    "# THAY ĐỔI ĐỘ TƯƠNG PHẢN"
   ]
  },
  {
   "cell_type": "code",
   "execution_count": 156,
   "metadata": {},
   "outputs": [],
   "source": [
    "def change_contrast(imageArray, contrast):\n",
    "    # reshape lai anh\n",
    "    h,w,d = imageArray.shape\n",
    "    a = imageArray.reshape(h * w, d)\n",
    "\n",
    "    # Tinh factor cho contrast\n",
    "    factor = 131*(contrast + 127)/(127*(131-contrast))\n",
    "\n",
    "    # Voi moi pixel, gan gia tri moi theo cong thuc\n",
    "    newIMG = np.array(a, copy=1)\n",
    "    newIMG = factor*(newIMG) + 127*(1-factor)\n",
    "    \n",
    "    # Check vuot qua khoang [0,255]\n",
    "    newIMG[newIMG > 255] = 255\n",
    "    newIMG[newIMG < 0] = 0\n",
    "\n",
    "    newIMG = newIMG.reshape(h,w,d)\n",
    "    newIMG = newIMG.astype(np.uint8)\n",
    "    \n",
    "    return newIMG"
   ]
  },
  {
   "cell_type": "markdown",
   "metadata": {},
   "source": [
    "# LẬT ẢNH NGANG DỌC"
   ]
  },
  {
   "cell_type": "code",
   "execution_count": 157,
   "metadata": {},
   "outputs": [],
   "source": [
    "def flip_image(image, type):\n",
    "    if type == \"horizon\":\n",
    "        reversed_arr = np.fliplr(image)\n",
    "    elif type == \"vertical\":\n",
    "        reversed_arr = np.flipud(image)\n",
    "\n",
    "    reversed_arr = reversed_arr.astype(np.uint8)\n",
    "    return reversed_arr"
   ]
  },
  {
   "cell_type": "markdown",
   "metadata": {},
   "source": [
    "# CHUYỂN ĐỔI ẢNH RGB THÀNH ẢNH XÁM"
   ]
  },
  {
   "cell_type": "code",
   "execution_count": 158,
   "metadata": {},
   "outputs": [],
   "source": [
    "def convert_to_grey(imageArray):\n",
    "    # Tach rieng RGB cua tung pixel ra thanh 3 ma tran r,g,b rieng biet\n",
    "    r, g, b = imageArray[:,:,0], imageArray[:,:,1], imageArray[:,:,2]\n",
    "\n",
    "    # Tinh mau xam theo luminosity --> Duoc ma tran 1D mau xam tuong ung voi tat ca pixel cua hinh\n",
    "    greyscale = r * 0.3 + g * 0.59 + b * 0.11\n",
    "\n",
    "    greyscale = greyscale.astype(np.uint32)\n",
    "    return greyscale"
   ]
  },
  {
   "cell_type": "markdown",
   "metadata": {},
   "source": [
    "# CHỒNG 2 ẢNH CÙNG KÍCH THƯỚC"
   ]
  },
  {
   "cell_type": "code",
   "execution_count": 159,
   "metadata": {},
   "outputs": [],
   "source": [
    "def stack_two_img(img1, img2):\n",
    "    newIMG1 = convert_to_grey(img1)\n",
    "    newIMG2 = convert_to_grey(img2)\n",
    "\n",
    "    newIMG = newIMG1 + newIMG2\n",
    "\n",
    "    newIMG = newIMG.astype(np.uint32)\n",
    "    return newIMG"
   ]
  },
  {
   "cell_type": "markdown",
   "metadata": {},
   "source": [
    "# LÀM MỜ ẢNH"
   ]
  },
  {
   "cell_type": "code",
   "execution_count": 160,
   "metadata": {},
   "outputs": [],
   "source": [
    "def blur_img2(img, radius):\n",
    "    a = np.array(img, copy=1)\n",
    "    h,w,d = a.shape\n",
    "\n",
    "    newIMG = np.array(a, copy=1)\n",
    "    kernel = 2 * radius + 1\n",
    "\n",
    "    replacePixel = (0,0,0)\n",
    "    if d == 4:\n",
    "        replacePixel = (0,0,0,255)\n",
    "\n",
    "    # Xet pixel xung theo truc doc\n",
    "    for x in range(0, h):\n",
    "        for y in range(0, w):\n",
    "            if x < radius or y < radius or x + radius >= h or y + radius >= w:\n",
    "                newIMG[x][y] = replacePixel\n",
    "                continue\n",
    "\n",
    "            count = 0\n",
    "            sum = replacePixel\n",
    "\n",
    "            # Tim cac pixel xung quanh theo truc doc va add vao mang temp\n",
    "            for i in range(x - radius, x - radius + kernel):\n",
    "                    sum  += a[i][y - radius]\n",
    "                    count += 1\n",
    "\n",
    "            sum = sum *  (1 / count)\n",
    "            newIMG[x][y] = sum\n",
    "    \n",
    "    # Xet pixel xung quanh theo truc theo truc ngang\n",
    "    for x in range(0, h):\n",
    "        for y in range(0, w):\n",
    "            if x < radius or y < radius or x + radius >= h or y + radius >= w:\n",
    "                newIMG[x][y] = replacePixel\n",
    "                continue\n",
    "\n",
    "            count = 0\n",
    "\n",
    "            sum = replacePixel\n",
    "            # Tim cac pixel xung quanh theo truc ngang va add vao mang temp\n",
    "            for i in range(y - radius, y - radius + kernel):\n",
    "                    sum += a[x - radius][i]\n",
    "                    count += 1\n",
    "\n",
    "            sum = sum *  (1 / count)\n",
    "            newIMG[x][y] = sum\n",
    "    \n",
    "    newIMG = newIMG.astype(np.uint8)\n",
    "    return newIMG"
   ]
  },
  {
   "cell_type": "markdown",
   "metadata": {},
   "source": [
    "# CẮT KHUNG"
   ]
  },
  {
   "cell_type": "code",
   "execution_count": 161,
   "metadata": {},
   "outputs": [],
   "source": [
    "def cut_image(img, type):\n",
    "    a = np.array(img)\n",
    "    h, w, d = a.shape\n",
    "    centerPixel = (int(h/2), int(w/2))\n",
    "    \n",
    "    diagonal = np.sqrt([w ** 2 + h ** 2])\n",
    "    diagonal = diagonal[0]\n",
    "\n",
    "    replacePixel = (0,0,0)\n",
    "    if d == 4:\n",
    "        replacePixel = (0,0,0,255)\n",
    "\n",
    "    if type == \"cir\":\n",
    "        radius = int(min(h,w) / 2)\n",
    "        for i in range(h):\n",
    "            for j in range(w):\n",
    "                if ((i - centerPixel[0]) ** 2) + ((j - centerPixel[1]) ** 2) > radius ** 2:\n",
    "                    a[i][j] = replacePixel\n",
    "    elif type == \"ell\":\n",
    "        majorAxis  = diagonal / 2.5\n",
    "        minorAxis = majorAxis / 2\n",
    "\n",
    "        cosAngle = float((h / 2) / (diagonal / 2))\n",
    "        sinAngle = float((w / 2) / (diagonal / 2))\n",
    "\n",
    "        for i in range(h):\n",
    "            for j in range(w):\n",
    "                if ( ((cosAngle * (i - centerPixel[0]) + sinAngle * (j - centerPixel[1])) / majorAxis) ** 2) + (((cosAngle * (j - centerPixel[1]) - sinAngle * (i - centerPixel[0])) / minorAxis) ** 2) > 1:\n",
    "                    if ( ((cosAngle * (i - centerPixel[0]) + (-sinAngle) * (j - centerPixel[1])) / majorAxis) ** 2) + (((cosAngle * (j - centerPixel[1]) - (-sinAngle) * (i - centerPixel[0])) / minorAxis) ** 2) > 1:\n",
    "                        a[i][j] = replacePixel\n",
    "\n",
    "    a = a.astype(np.uint8)\n",
    "    return a\n"
   ]
  },
  {
   "cell_type": "markdown",
   "metadata": {},
   "source": [
    "# MAIN"
   ]
  },
  {
   "cell_type": "code",
   "execution_count": null,
   "metadata": {},
   "outputs": [],
   "source": [
    "def main():\n",
    "    imgName1 = input(\"NHAP TEN ANH 1\")\n",
    "    img1 = pil.Image.open(imgName1)\n",
    "\n",
    "    imgName = imgName1.split('.')\n",
    "    imgName, extension = imgName[0], imgName[1]\n",
    "\n",
    "    a = np.array(img1)        \n",
    "    height, width, depth = a.shape\n",
    "    \n",
    "    print(\"0. Thuc hien het tat ca chuc nang\")\n",
    "    print(\"1. Thay doi do sang (co nhap vao do gia tri do sang)\")\n",
    "    print(\"2. Thay doi do tuong phan (co nhap vao gia tri tuong phan)\")\n",
    "    print(\"3. Lat anh ngang doc (nhap vao \\\"horizon\\\" hoac \\\"vertical\\\" \")\n",
    "    print(\"4. Chuyen doi anh RGB thanh xam\")\n",
    "    print(\"5. Chong 2 anh mau xam (co nhap vao ten anh 2)\")\n",
    "    print(\"6. Lam mo anh (co nhap vao gia tri radius (kernel <-> 2 * radius + 1)\")\n",
    "    print(\"7. Cat anh theo khung (1. hinh tron, 2. ellipse)\")\n",
    "\n",
    "    choice = input(\"ENTER CHOICE\")\n",
    "    \n",
    "    if choice == \"0\":\n",
    "        choice2 = input(\"Goi het tat ca chuc nang Nhap lua chon cua ban: \\n0-Su dung cac tham so default cho tat ca cac chuc nang\\n1-Tu nhap cac tham so cho cac chuc nang\")\n",
    "\n",
    "        brightness, contrastVal, flipType = 100, 60, \"vertical\"\n",
    "        radius, frameType = 1, \"cir\"\n",
    "\n",
    "        if choice2 == \"1\":\n",
    "            brightness = input(\"Nhap do sang cua anh\")\n",
    "            contrastVal = input(\"Nhap do tuong phan cua anh\")\n",
    "            flipType = input(\"Nhap loai lat (horizon - vertical)\")\n",
    "            radius = input(\"Nhap radius (kernel = 2 * radius + 1 with radius=0,1,2,3....)\")\n",
    "            frameType = input(\"Nhap loai khung (cir - ell)\")\n",
    "\n",
    "        # Chuan bi cho chuc nang xep chong 2 anh\n",
    "        imgName2 = input(\"NHAP TEN ANH 2 cho chuc nang xep chong 2 anh\")\n",
    "        img2 = pil.Image.open(imgName2)\n",
    "        b = np.array(img2)\n",
    "\n",
    "        # thay doi do sang\n",
    "        temp = change_brightness(a, brightness)\n",
    "        plt.imsave(imgName + \"_brightness.\" + extension, temp)\n",
    "\n",
    "        # Thay doi do tuong phan\n",
    "        temp = change_contrast(a, contrastVal)\n",
    "        plt.imsave(imgName + \"_contrast.\" + extension, temp)\n",
    "\n",
    "        # Lat anh ngang doc\n",
    "        temp = flip_image(img1, flipType)\n",
    "        plt.imsave(imgName + \"_flip_\" + flipType + \".\" + extension, temp)\n",
    "\n",
    "        # Chuyen RGB thanh xam\n",
    "        temp = convert_to_grey(a)\n",
    "        plt.imsave(imgName + \"_greyscale.\" + extension, temp, cmap=\"gray\")\n",
    "\n",
    "        # Chong 2 anh mau xam\n",
    "        temp = stack_two_img(a, b)\n",
    "        plt.imsave(imgName + \"_stack2IMG.\" + extension, temp, cmap=\"gray\")\n",
    "\n",
    "        # lam mo anh\n",
    "        temp = blur_img2(a, radius)\n",
    "        plt.imsave(imgName + \"_blur.\" + extension, temp)\n",
    "\n",
    "        # Dong khung\n",
    "        temp = cut_image(a, frameType)\n",
    "        plt.imsave(imgName + \"_cutframe_\" + frameType + \".\" + extension, temp)\n",
    "\n",
    "        return\n",
    "\n",
    "    # thay doi do sang\n",
    "    if choice == \"1\":\n",
    "        brightness = int(input(\"Nhap do sang cua anh\"))\n",
    "        a = change_brightness(a, brightness)\n",
    "        plt.imsave(imgName + \"_brightness.\" + extension, a)\n",
    "\n",
    "    # Thay doi do tuong phan\n",
    "    if choice == \"2\":\n",
    "        contrastVal = int(input(\"Nhap do tuong phan cua anh\"))\n",
    "        a = change_contrast(a, contrastVal)\n",
    "        plt.imsave(imgName + \"_contrast.\" + extension, a)\n",
    "\n",
    "    # lat anh ngang doc\n",
    "    if choice == \"3\":\n",
    "        flipType = input(\"Nhap loai lat (horizon - vertical)\")\n",
    "        a = flip_image(img1, flipType)\n",
    "        plt.imsave(imgName + \"_flip_\" + flipType + \".\" + extension, a)\n",
    "\n",
    "    # Chuyen thanh anh xam\n",
    "    if choice == \"4\":\n",
    "        a = convert_to_grey(a)\n",
    "        plt.imsave(imgName + \"_greyscale.\" + extension, a, cmap=\"gray\")\n",
    "\n",
    "    # stack 2 hinh\n",
    "    if choice == \"5\":\n",
    "        imgName2 = input(\"NHAP TEN ANH 2\")\n",
    "        img2 = pil.Image.open(imgName2)\n",
    "        b = np.array(img2)\n",
    "\n",
    "        a = stack_two_img(a, b)\n",
    "        plt.imsave(imgName + \"_stack2IMG.\" + extension, a, cmap=\"gray\")\n",
    "\n",
    "    # Lam mo hinh\n",
    "    if choice == \"6\":\n",
    "        radius = int(input(\"Nhap radius (kernel = 2 * radius + 1 with radius=0,1,2,3....)\"))\n",
    "        a = blur_img2(a, radius)\n",
    "        plt.imsave(imgName + \"_blur.\" + extension, a)\n",
    "\n",
    "    # Cat khung hinh\n",
    "    if choice == \"7\":\n",
    "        frameType = input(\"Nhap loai khung (cir - ell)\")\n",
    "        a = cut_image(img1, frameType)\n",
    "        plt.imsave(imgName + \"_cutFrame_\" + frameType + \".\" + extension, a)\n",
    "\n",
    "    plt.imshow(a, cmap='gray')\n",
    "\n",
    "main()"
   ]
  }
 ],
 "metadata": {
  "kernelspec": {
   "display_name": "Python 3.10.0 64-bit",
   "language": "python",
   "name": "python3"
  },
  "language_info": {
   "codemirror_mode": {
    "name": "ipython",
    "version": 3
   },
   "file_extension": ".py",
   "mimetype": "text/x-python",
   "name": "python",
   "nbconvert_exporter": "python",
   "pygments_lexer": "ipython3",
   "version": "3.10.0"
  },
  "orig_nbformat": 4,
  "vscode": {
   "interpreter": {
    "hash": "82258a55d1500764d1b3d80f19af3c76a05d58cf47ccab85c75254e5aad3c4be"
   }
  }
 },
 "nbformat": 4,
 "nbformat_minor": 2
}
