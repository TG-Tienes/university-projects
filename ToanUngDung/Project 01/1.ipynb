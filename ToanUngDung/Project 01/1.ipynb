{
 "cells": [
  {
   "cell_type": "markdown",
   "metadata": {},
   "source": [
    "## IDEA\n",
    "hoat dong tren khong gian <= 2 chieu (R^2) nhung mot buc anh RGB la khong gian 3 chieu do vay phai reshape lai buc hinh moi tinh toan duoc"
   ]
  },
  {
   "cell_type": "markdown",
   "metadata": {},
   "source": [
    "## KMEANS"
   ]
  },
  {
   "cell_type": "code",
   "execution_count": 210,
   "metadata": {},
   "outputs": [
    {
     "name": "stdout",
     "output_type": "stream",
     "text": [
      "[[26 13 15]\n",
      " [26 13 15]\n",
      " [26 13 15]\n",
      " ...\n",
      " [67 53 64]\n",
      " [67 53 64]\n",
      " [67 53 64]]\n"
     ]
    }
   ],
   "source": [
    "import numpy as np\n",
    "import matplotlib.pyplot as plt\n",
    "import PIL as pil\n",
    "\n",
    "def kmeans(img_1d, k_clusters, max_iter, init_centroids='random'):\n",
    "    # height <-> row, width <-> col, depth = 3 (RGB)\n",
    "    height, width, depth = img_1d.shape\n",
    "\n",
    "    # reshape 3D -> 2D with (height * width) row and each row has 3 elements(RGB)\n",
    "    reshapedIMG = img_1d.reshape(height * width, depth)\n",
    "\n",
    "    # initial centroid with k clusters\n",
    "    if init_centroids == \"random\":\n",
    "        centroids = np.random.choice(255, size=(k_clusters, depth)) #2D array with k_cluster row, each row has width element\n",
    "    elif init_centroids == \"in_pixels\":\n",
    "        centroids = reshapedIMG[np.random.choice(height, k_clusters)] \n",
    "    \n",
    "    # find the final centroids\n",
    "    for i in range(max_iter):\n",
    "        prevCentroid = centroids\n",
    "        distance = np.zeros((reshapedIMG.shape[0], k_clusters))\n",
    "\n",
    "        # find the distances between pixels and centroids\n",
    "        for k in range(k_clusters):\n",
    "            distance[:,k] = np.square(np.linalg.norm(reshapedIMG - centroids[k, :], axis=1))\n",
    "\n",
    "        # min distance\n",
    "        label = np.argmin(distance, axis=1) \n",
    "\n",
    "        # update new centroid\n",
    "        # initial the centroids array\n",
    "        centroids = np.zeros((k_clusters, depth)) \n",
    "        for k in range(k_clusters):\n",
    "            centroids[k:] = np.mean(reshapedIMG[label == k,:], axis=0)\n",
    "        \n",
    "        # converge\n",
    "        if np.allclose(prevCentroid, centroids, atol=2):\n",
    "            break\n",
    "    \n",
    "    # assign centroid's value for every pixel\n",
    "    for k in range(k_clusters):\n",
    "        reshapedIMG[label == k, :] = centroids[k]\n",
    "\n",
    "    # reshape the final image array in to 3D\n",
    "    # reshapedIMG = reshapedIMG.reshape(height * width,)\n",
    "\n",
    "    return reshapedIMG, centroids\n",
    "    \n",
    "def main():\n",
    "    imgName = input(\"Enter image name: \")\n",
    "    img = pil.Image.open(imgName)\n",
    "    npArray = np.array(img)\n",
    "\n",
    "    newIMG, centroids = kmeans(npArray, k_clusters=3, max_iter=100, init_centroids=\"in_pixels\")\n",
    "    plt.savefig()\n",
    "    print(newIMG)\n",
    "    # plt.imshow(newIMG)\n",
    "\n",
    "main()"
   ]
  }
 ],
 "metadata": {
  "interpreter": {
   "hash": "82258a55d1500764d1b3d80f19af3c76a05d58cf47ccab85c75254e5aad3c4be"
  },
  "kernelspec": {
   "display_name": "Python 3.10.0 64-bit",
   "language": "python",
   "name": "python3"
  },
  "language_info": {
   "codemirror_mode": {
    "name": "ipython",
    "version": 3
   },
   "file_extension": ".py",
   "mimetype": "text/x-python",
   "name": "python",
   "nbconvert_exporter": "python",
   "pygments_lexer": "ipython3",
   "version": "3.10.0"
  },
  "orig_nbformat": 4
 },
 "nbformat": 4,
 "nbformat_minor": 2
}
